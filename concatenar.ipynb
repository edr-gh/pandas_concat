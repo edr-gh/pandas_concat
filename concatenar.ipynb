{
 "cells": [
  {
   "cell_type": "code",
   "execution_count": null,
   "metadata": {
    "executionInfo": {
     "elapsed": 833,
     "status": "ok",
     "timestamp": 1739719782186,
     "user": {
      "displayName": "Esteban David",
      "userId": "08648363496446228935"
     },
     "user_tz": 300
    },
    "id": "F0zhVpxbmJZ1"
   },
   "outputs": [],
   "source": [
    "# Importando librerias\n",
    "import os\n",
    "import re\n",
    "import pandas as pd\n",
    "from datetime import datetime"
   ]
  },
  {
   "cell_type": "code",
   "execution_count": null,
   "metadata": {
    "colab": {
     "base_uri": "https://localhost:8080/"
    },
    "executionInfo": {
     "elapsed": 10,
     "status": "ok",
     "timestamp": 1739719782187,
     "user": {
      "displayName": "Esteban David",
      "userId": "08648363496446228935"
     },
     "user_tz": 300
    },
    "id": "VmN71yWimyJo",
    "outputId": "f545db17-7a69-4d60-eeee-52abc237decc"
   },
   "outputs": [],
   "source": [
    "# Creando un listado con las direcciones de los archivos\n",
    "files = os.listdir(os.path.join(os.getcwd(),\"archivos_csv\"))\n",
    "files_path = [os.path.join(os.getcwd(),\"archivos_csv\",file) for file in files]"
   ]
  },
  {
   "cell_type": "code",
   "execution_count": null,
   "metadata": {
    "colab": {
     "base_uri": "https://localhost:8080/"
    },
    "executionInfo": {
     "elapsed": 8,
     "status": "ok",
     "timestamp": 1739719782187,
     "user": {
      "displayName": "Esteban David",
      "userId": "08648363496446228935"
     },
     "user_tz": 300
    },
    "id": "qXgKB4fDu3ku",
    "outputId": "3bc89f89-f125-4f32-b03d-52d62e9364e4"
   },
   "outputs": [],
   "source": [
    "# Creando fechas del dataframe\n",
    "fechas = []\n",
    "\n",
    "for file in files:\n",
    "  patron_day = r\"(\\d{2}).csv$\"\n",
    "  patron_month = r\"(\\d{2})\\d{2}.csv$\"\n",
    "  patron_year = r\"(\\d{4})\\d{4}.csv$\"\n",
    "\n",
    "  day = re.search(patron_day,file).group(1)\n",
    "  month = re.search(patron_month,file).group(1)\n",
    "  year = re.search(patron_year,file).group(1)\n",
    "\n",
    "  fecha = f\"{day}/{month}/{year}\"\n",
    "\n",
    "  fecha = datetime.strptime(fecha,\"%d/%m/%Y\")\n",
    "\n",
    "  fechas.append(fecha)"
   ]
  },
  {
   "cell_type": "code",
   "execution_count": null,
   "metadata": {
    "colab": {
     "base_uri": "https://localhost:8080/",
     "height": 347
    },
    "executionInfo": {
     "elapsed": 225,
     "status": "ok",
     "timestamp": 1739720759245,
     "user": {
      "displayName": "Esteban David",
      "userId": "08648363496446228935"
     },
     "user_tz": 300
    },
    "id": "J0sI4H7nn-dr",
    "outputId": "d9304423-769d-42a4-daad-0f34442eca2b"
   },
   "outputs": [],
   "source": [
    "# Creando un variable con dataframes por cada archivo en files_path\n",
    "dfs = [pd.read_csv(file, sep=\";\", na_values=\"-\", encoding=\"utf-8\", skiprows=1, decimal=\",\",\n",
    "        names = [\"Nemotécnico\", \"Último_precio\",\"Variación_porcentual\",\"Volúmenes\",\"Cantidad\",\n",
    "                 \"Variación_absoluta\",\"Precio_apertura\",\"Precio_máximo\",\"Precio_mínimo\",\"Precio_promedio\",\"Emisor\"],\n",
    "                   usecols=[i for i in range(11)]) for file in files_path]\n",
    "\n",
    "i = 0\n",
    "\n",
    "while i<len(dfs):\n",
    "  dfs[i][\"Fecha\"]= fechas[i]\n",
    "  i+=1\n",
    "\n",
    "dfs[3].head()"
   ]
  },
  {
   "cell_type": "code",
   "execution_count": null,
   "metadata": {
    "colab": {
     "base_uri": "https://localhost:8080/",
     "height": 669
    },
    "executionInfo": {
     "elapsed": 218,
     "status": "ok",
     "timestamp": 1739720784381,
     "user": {
      "displayName": "Esteban David",
      "userId": "08648363496446228935"
     },
     "user_tz": 300
    },
    "id": "_IzCoI3l4knl",
    "outputId": "6cccc761-32f1-4d47-f7b5-af1ba276c7ae"
   },
   "outputs": [],
   "source": [
    "# Concatenando los dataframes en uno solo\n",
    "df = pd.concat([dfs[i] for i in range(len(dfs))])\n",
    "df.head()"
   ]
  },
  {
   "cell_type": "code",
   "execution_count": null,
   "metadata": {
    "executionInfo": {
     "elapsed": 199,
     "status": "ok",
     "timestamp": 1739720806504,
     "user": {
      "displayName": "Esteban David",
      "userId": "08648363496446228935"
     },
     "user_tz": 300
    },
    "id": "BCHV3CWmYqRg"
   },
   "outputs": [],
   "source": [
    "# Opcional: Convertir el dataframe concatenado en un archivo csv para usarlo con Excel o Google Sheets\n",
    "\n",
    "df.to_csv(path_or_buf=os.path.join(os.getcwd(),\"df.csv\"),sep=\";\",index=False,na_rep=\"-\")"
   ]
  },
  {
   "cell_type": "markdown",
   "metadata": {},
   "source": [
    "Pandas posee la opción de exportar los datos directamente a Excel, sin embargo, es preferible exportar a csv porque este último puede ser interpretado por muchos otros programas, cosa que no ocurre con el formato xlsx de Excel."
   ]
  }
 ],
 "metadata": {
  "colab": {
   "authorship_tag": "ABX9TyP9H7b27upTQpRMjlgPmTqN",
   "provenance": []
  },
  "kernelspec": {
   "display_name": "Python 3",
   "name": "python3"
  },
  "language_info": {
   "codemirror_mode": {
    "name": "ipython",
    "version": 3
   },
   "file_extension": ".py",
   "mimetype": "text/x-python",
   "name": "python",
   "nbconvert_exporter": "python",
   "pygments_lexer": "ipython3",
   "version": "3.12.0"
  }
 },
 "nbformat": 4,
 "nbformat_minor": 0
}
